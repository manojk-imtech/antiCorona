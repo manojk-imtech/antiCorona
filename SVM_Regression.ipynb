{
 "cells": [
  {
   "cell_type": "markdown",
   "metadata": {},
   "source": [
    "## Calling the libraries"
   ]
  },
  {
   "cell_type": "code",
   "execution_count": 12,
   "metadata": {},
   "outputs": [],
   "source": [
    "import pandas as pd\n",
    "import numpy as np\n",
    "import math\n",
    "import itertools\n",
    "import matplotlib.pyplot as plt\n",
    "\n",
    "from sklearn import model_selection, metrics\n",
    "from sklearn.model_selection import train_test_split\n",
    "from sklearn.model_selection import KFold \n",
    "from scipy import stats\n",
    "\n",
    "\n",
    "from sklearn.metrics import confusion_matrix, accuracy_score, roc_auc_score, r2_score, f1_score,mean_squared_error\n",
    "\n",
    "from sklearn.svm import SVR\n",
    "\n",
    "from numpy.random import seed\n",
    "seed(1)"
   ]
  },
  {
   "cell_type": "markdown",
   "metadata": {},
   "source": [
    "### Degining the functions"
   ]
  },
  {
   "cell_type": "code",
   "execution_count": 2,
   "metadata": {},
   "outputs": [],
   "source": [
    "def complete_model(trainx, trainy, testx, testy, model):\n",
    "    model.fit(trainx, trainy)\n",
    "    y_pred = model.predict(testx)\n",
    "    return calculation(testy, y_pred)"
   ]
  },
  {
   "cell_type": "code",
   "execution_count": 3,
   "metadata": {},
   "outputs": [],
   "source": [
    "def calculation(y_test, y_pred):  \n",
    "    mse=mean_squared_error(y_test,y_pred)\n",
    "    rmse=np.sqrt(mse)\n",
    "    r2=metrics.r2_score(y_test,y_pred)\n",
    "    pcc=stats.pearsonr(y_test,y_pred)\n",
    "    return [mse, rmse, r2, pcc[0],pcc[1]]"
   ]
  },
  {
   "cell_type": "code",
   "execution_count": 4,
   "metadata": {},
   "outputs": [],
   "source": [
    "def print_output(model_name, val, output_val):\n",
    "    print('\\033[1mOptimized {} model {} performance: \\033[0m'.format(model_name, val))\n",
    "    print(\"MSE:         {0:.3f}\".format(output_val[0]))\n",
    "    print(\"RMSE: {0:.3f}\".format(output_val[1]))\n",
    "    print(\"R2: {0:.3f}\".format(output_val[2]))\n",
    "    print(\"PCC:    {0:.3f}\".format(output_val[3]))\n",
    "    print(\"p-value:    {0:.3f}\".format(output_val[4]))"
   ]
  },
  {
   "cell_type": "markdown",
   "metadata": {},
   "source": [
    "#### Read data (training files)"
   ]
  },
  {
   "cell_type": "code",
   "execution_count": 6,
   "metadata": {},
   "outputs": [
    {
     "data": {
      "text/html": [
       "<div>\n",
       "<style scoped>\n",
       "    .dataframe tbody tr th:only-of-type {\n",
       "        vertical-align: middle;\n",
       "    }\n",
       "\n",
       "    .dataframe tbody tr th {\n",
       "        vertical-align: top;\n",
       "    }\n",
       "\n",
       "    .dataframe thead th {\n",
       "        text-align: right;\n",
       "    }\n",
       "</style>\n",
       "<table border=\"1\" class=\"dataframe\">\n",
       "  <thead>\n",
       "    <tr style=\"text-align: right;\">\n",
       "      <th></th>\n",
       "      <th>Name</th>\n",
       "      <th>AATS3s</th>\n",
       "      <th>AATS4s</th>\n",
       "      <th>AATSC0c</th>\n",
       "      <th>AATSC1p</th>\n",
       "      <th>MATS1p</th>\n",
       "      <th>MATS1i</th>\n",
       "      <th>VE1_Dzs</th>\n",
       "      <th>VE2_Dzs</th>\n",
       "      <th>TDB5e</th>\n",
       "      <th>...</th>\n",
       "      <th>PubchemFP497</th>\n",
       "      <th>PubchemFP609</th>\n",
       "      <th>PubchemFP622</th>\n",
       "      <th>PubchemFP674</th>\n",
       "      <th>KRFP2018</th>\n",
       "      <th>KRFP2135</th>\n",
       "      <th>KRFP4772</th>\n",
       "      <th>AD2D174</th>\n",
       "      <th>KRFPC2135</th>\n",
       "      <th>KRFPC2975</th>\n",
       "    </tr>\n",
       "  </thead>\n",
       "  <tbody>\n",
       "    <tr>\n",
       "      <th>0</th>\n",
       "      <td>5.18</td>\n",
       "      <td>2.034846</td>\n",
       "      <td>1.948337</td>\n",
       "      <td>0.007198</td>\n",
       "      <td>-0.014797</td>\n",
       "      <td>-0.059715</td>\n",
       "      <td>-0.211553</td>\n",
       "      <td>0.493891</td>\n",
       "      <td>0.022450</td>\n",
       "      <td>34.024208</td>\n",
       "      <td>...</td>\n",
       "      <td>0</td>\n",
       "      <td>0</td>\n",
       "      <td>0</td>\n",
       "      <td>0</td>\n",
       "      <td>0</td>\n",
       "      <td>0</td>\n",
       "      <td>0</td>\n",
       "      <td>0</td>\n",
       "      <td>0.0</td>\n",
       "      <td>9.0</td>\n",
       "    </tr>\n",
       "    <tr>\n",
       "      <th>1</th>\n",
       "      <td>5.10</td>\n",
       "      <td>2.168422</td>\n",
       "      <td>2.021814</td>\n",
       "      <td>0.011219</td>\n",
       "      <td>-0.007268</td>\n",
       "      <td>-0.029721</td>\n",
       "      <td>-0.185476</td>\n",
       "      <td>0.457910</td>\n",
       "      <td>0.019909</td>\n",
       "      <td>32.854418</td>\n",
       "      <td>...</td>\n",
       "      <td>0</td>\n",
       "      <td>0</td>\n",
       "      <td>0</td>\n",
       "      <td>0</td>\n",
       "      <td>0</td>\n",
       "      <td>0</td>\n",
       "      <td>0</td>\n",
       "      <td>0</td>\n",
       "      <td>0.0</td>\n",
       "      <td>9.0</td>\n",
       "    </tr>\n",
       "    <tr>\n",
       "      <th>2</th>\n",
       "      <td>5.89</td>\n",
       "      <td>2.586843</td>\n",
       "      <td>2.484821</td>\n",
       "      <td>0.011040</td>\n",
       "      <td>0.001238</td>\n",
       "      <td>0.004958</td>\n",
       "      <td>-0.123107</td>\n",
       "      <td>0.285269</td>\n",
       "      <td>0.011411</td>\n",
       "      <td>35.089963</td>\n",
       "      <td>...</td>\n",
       "      <td>0</td>\n",
       "      <td>0</td>\n",
       "      <td>0</td>\n",
       "      <td>0</td>\n",
       "      <td>0</td>\n",
       "      <td>0</td>\n",
       "      <td>0</td>\n",
       "      <td>0</td>\n",
       "      <td>0.0</td>\n",
       "      <td>5.0</td>\n",
       "    </tr>\n",
       "    <tr>\n",
       "      <th>3</th>\n",
       "      <td>5.30</td>\n",
       "      <td>6.735119</td>\n",
       "      <td>5.824755</td>\n",
       "      <td>0.039992</td>\n",
       "      <td>-0.005964</td>\n",
       "      <td>-0.029783</td>\n",
       "      <td>-0.201130</td>\n",
       "      <td>0.229938</td>\n",
       "      <td>0.012774</td>\n",
       "      <td>43.154668</td>\n",
       "      <td>...</td>\n",
       "      <td>0</td>\n",
       "      <td>0</td>\n",
       "      <td>0</td>\n",
       "      <td>0</td>\n",
       "      <td>0</td>\n",
       "      <td>0</td>\n",
       "      <td>0</td>\n",
       "      <td>0</td>\n",
       "      <td>0.0</td>\n",
       "      <td>9.0</td>\n",
       "    </tr>\n",
       "    <tr>\n",
       "      <th>4</th>\n",
       "      <td>4.03</td>\n",
       "      <td>2.308201</td>\n",
       "      <td>2.173413</td>\n",
       "      <td>0.006154</td>\n",
       "      <td>-0.008504</td>\n",
       "      <td>-0.034845</td>\n",
       "      <td>-0.098218</td>\n",
       "      <td>0.413094</td>\n",
       "      <td>0.014753</td>\n",
       "      <td>35.676718</td>\n",
       "      <td>...</td>\n",
       "      <td>0</td>\n",
       "      <td>0</td>\n",
       "      <td>0</td>\n",
       "      <td>0</td>\n",
       "      <td>0</td>\n",
       "      <td>0</td>\n",
       "      <td>0</td>\n",
       "      <td>0</td>\n",
       "      <td>0.0</td>\n",
       "      <td>8.0</td>\n",
       "    </tr>\n",
       "  </tbody>\n",
       "</table>\n",
       "<p>5 rows × 36 columns</p>\n",
       "</div>"
      ],
      "text/plain": [
       "   Name    AATS3s    AATS4s   AATSC0c   AATSC1p    MATS1p    MATS1i   VE1_Dzs  \\\n",
       "0  5.18  2.034846  1.948337  0.007198 -0.014797 -0.059715 -0.211553  0.493891   \n",
       "1  5.10  2.168422  2.021814  0.011219 -0.007268 -0.029721 -0.185476  0.457910   \n",
       "2  5.89  2.586843  2.484821  0.011040  0.001238  0.004958 -0.123107  0.285269   \n",
       "3  5.30  6.735119  5.824755  0.039992 -0.005964 -0.029783 -0.201130  0.229938   \n",
       "4  4.03  2.308201  2.173413  0.006154 -0.008504 -0.034845 -0.098218  0.413094   \n",
       "\n",
       "    VE2_Dzs      TDB5e  ...  PubchemFP497  PubchemFP609  PubchemFP622  \\\n",
       "0  0.022450  34.024208  ...             0             0             0   \n",
       "1  0.019909  32.854418  ...             0             0             0   \n",
       "2  0.011411  35.089963  ...             0             0             0   \n",
       "3  0.012774  43.154668  ...             0             0             0   \n",
       "4  0.014753  35.676718  ...             0             0             0   \n",
       "\n",
       "   PubchemFP674  KRFP2018  KRFP2135  KRFP4772  AD2D174  KRFPC2135  KRFPC2975  \n",
       "0             0         0         0         0        0        0.0        9.0  \n",
       "1             0         0         0         0        0        0.0        9.0  \n",
       "2             0         0         0         0        0        0.0        5.0  \n",
       "3             0         0         0         0        0        0.0        9.0  \n",
       "4             0         0         0         0        0        0.0        8.0  \n",
       "\n",
       "[5 rows x 36 columns]"
      ]
     },
     "execution_count": 6,
     "metadata": {},
     "output_type": "execute_result"
    }
   ],
   "source": [
    "## Read the file\n",
    "overall_data =pd.read_csv(\"../SARS/sars_boruta_grepped_features_train.csv\")\n",
    "\n",
    "### Remove last column from the file\n",
    "overall_data = overall_data.iloc[:, :-1]\n",
    "\n",
    "## Replace the string character\n",
    "overall_data.replace('?',0,inplace=True)\n",
    "\n",
    "\n",
    "overall_data.head()"
   ]
  },
  {
   "cell_type": "markdown",
   "metadata": {},
   "source": [
    "#### Independent validation dataset"
   ]
  },
  {
   "cell_type": "code",
   "execution_count": 7,
   "metadata": {},
   "outputs": [],
   "source": [
    "test = pd.read_csv(\"../SARS_CoV-2/sars_cov2_boruta_grepped_features_test.csv\", low_memory=False)\n",
    "\n",
    "\n",
    "test = test.iloc[:, :-1]\n",
    "\n",
    "## Replace the string character from the test dataset\n",
    "test.replace('?',0,inplace=True)\n",
    "\n",
    "## Spliting the files in x and y variables [test dataset]\n",
    "X_val = test.iloc[:,1:].values\n",
    "y_val = test.loc[:,'Name'].values\n",
    "\n",
    "X_val[:] = np.nan_to_num(X_val)\n",
    "y_val[:] = np.nan_to_num(y_val)"
   ]
  },
  {
   "cell_type": "markdown",
   "metadata": {},
   "source": [
    "#### Spliting the files in x and y variables [training dataset]"
   ]
  },
  {
   "cell_type": "code",
   "execution_count": 9,
   "metadata": {},
   "outputs": [],
   "source": [
    "x = overall_data.iloc[:,1:].values\n",
    "y = overall_data.loc[:,'Name'].values\n",
    "\n",
    "x[:] = np.nan_to_num(x)\n",
    "y[:] = np.nan_to_num(y)\n",
    "\n",
    "#print(x,y)"
   ]
  },
  {
   "cell_type": "markdown",
   "metadata": {},
   "source": [
    "### Call the defined functions"
   ]
  },
  {
   "cell_type": "code",
   "execution_count": 10,
   "metadata": {},
   "outputs": [],
   "source": [
    "column_names =  ['Range_val', 'Model_info','MAE', 'RMSE','R2', 'PCC','p-val']"
   ]
  },
  {
   "cell_type": "code",
   "execution_count": 11,
   "metadata": {},
   "outputs": [],
   "source": [
    "output  = pd.DataFrame(columns = column_names)\n",
    "\n",
    "## Change the kernels; C and gamma values for model optimization\n",
    "# E.g. kernels = ['poly', 'rbf'] \n",
    "# Cs = [0.01, 0.1, 1, 10, 100]\n",
    "# gammas = [0.1, 0.01, 0.001, 0.0001]\n",
    "\n",
    "kernels = ['rbf']\n",
    "Cs = [0.01,0.1]\n",
    "gammas = [0.1, 0.01]\n",
    "\n",
    "\n",
    "param = [k for k in itertools.product(kernels, Cs, gammas)]\n",
    "\n",
    "for i in range(len(param)):\n",
    "    params=param[i]\n",
    "    kernel, C, gamma = params[0], params[1], params[2]\n",
    "    #cv = RepeatedKFold(n_splits=10, n_repeats=repeats, random_state=1)\n",
    "    model = SVR(C=C, kernel=kernel, gamma=gamma)\n",
    "    for j in range(100):\n",
    "        param_name = 'svm_'+'param_'+str(i)+'_kernel_'+params[0]+'_C_'+str(params[1])+'_gamma_'+str(params[2])\n",
    "        #print(i, j)\n",
    "        x_train, x_test, y_train, y_test = train_test_split(x,y,test_size=0.1, random_state=j)\n",
    "        output_val = complete_model(trainx=x_train, trainy=y_train, testx=x_test, testy=y_test, model=model)\n",
    "        output.loc[len(output)] = [str(j), param_name, output_val[0], output_val[1], output_val[2], output_val[3],output_val[4]]\n",
    "\n",
    "output.to_csv(r'''svm_training_metrics_all_10.csv''')"
   ]
  },
  {
   "cell_type": "markdown",
   "metadata": {},
   "source": [
    "### Print the output of best performing SVM model"
   ]
  },
  {
   "cell_type": "code",
   "execution_count": 65,
   "metadata": {},
   "outputs": [
    {
     "name": "stdout",
     "output_type": "stream",
     "text": [
      "\u001b[1mOptimized SVM model training performance: \u001b[0m\n",
      "MSE:         1.217\n",
      "RMSE: 1.103\n",
      "R2: 0.088\n",
      "PCC:    0.808\n",
      "p-value:    0.000\n"
     ]
    }
   ],
   "source": [
    "### SVM\n",
    "final_svm = SVR(C=0.1, kernel='rbf', gamma=0.01)\n",
    "x_train, x_test, y_train, y_test = train_test_split(x,y,test_size=0.1, random_state=62)\n",
    "### Optimized SVM model training performance\n",
    "print_output('SVM', 'training', complete_model(x_train, y_train, x_test, y_test, final_svm))\n",
    "### Optimized SVM model testing performance\n",
    "print_result('SVM', 'testing', complete_model(X_train, y_train, X_val, y_val, final_svm))"
   ]
  },
  {
   "cell_type": "code",
   "execution_count": null,
   "metadata": {},
   "outputs": [],
   "source": []
  }
 ],
 "metadata": {
  "kernelspec": {
   "display_name": "Python 3",
   "language": "python",
   "name": "python3"
  },
  "language_info": {
   "codemirror_mode": {
    "name": "ipython",
    "version": 3
   },
   "file_extension": ".py",
   "mimetype": "text/x-python",
   "name": "python",
   "nbconvert_exporter": "python",
   "pygments_lexer": "ipython3",
   "version": "3.8.5"
  }
 },
 "nbformat": 4,
 "nbformat_minor": 4
}
